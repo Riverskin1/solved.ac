{
  "nbformat": 4,
  "nbformat_minor": 0,
  "metadata": {
    "colab": {
      "name": "백준의 알고리즘 class_1.ipynb",
      "provenance": []
    },
    "kernelspec": {
      "name": "python3",
      "display_name": "Python 3"
    },
    "language_info": {
      "name": "python"
    }
  },
  "cells": [
    {
      "cell_type": "code",
      "execution_count": null,
      "metadata": {
        "id": "oMYTXLQUtRmj"
      },
      "outputs": [],
      "source": [
        "input = 'The Curious Case of Benjamin Button'"
      ]
    },
    {
      "cell_type": "code",
      "source": [
        "a = input.split(' ')\n",
        "print(len(a))\n"
      ],
      "metadata": {
        "colab": {
          "base_uri": "https://localhost:8080/"
        },
        "id": "74okCiMFtS3c",
        "outputId": "50567dac-7978-4c44-c2dc-43436f77a72b"
      },
      "execution_count": null,
      "outputs": [
        {
          "output_type": "stream",
          "name": "stdout",
          "text": [
            "6\n"
          ]
        }
      ]
    },
    {
      "cell_type": "code",
      "source": [
        "input = 'Mississipi'"
      ],
      "metadata": {
        "id": "zE1tLUiqyYi3"
      },
      "execution_count": null,
      "outputs": []
    },
    {
      "cell_type": "code",
      "source": [
        "a = input.upper()\n",
        "print(a)"
      ],
      "metadata": {
        "colab": {
          "base_uri": "https://localhost:8080/"
        },
        "id": "kCEhX03BwXFw",
        "outputId": "3a27f19a-4bb3-4052-e3ef-2f94b0f5f200"
      },
      "execution_count": null,
      "outputs": [
        {
          "output_type": "stream",
          "name": "stdout",
          "text": [
            "MISSISSIPI\n"
          ]
        }
      ]
    },
    {
      "cell_type": "code",
      "source": [
        "print(\"|    /\\n )   ( '')\\n (  /  )\\n|(__)|)''\")"
      ],
      "metadata": {
        "colab": {
          "base_uri": "https://localhost:8080/"
        },
        "id": "8pKrtKyDypND",
        "outputId": "f7a1f70c-94de-4833-ecc0-ed42e834dc5d"
      },
      "execution_count": null,
      "outputs": [
        {
          "output_type": "stream",
          "name": "stdout",
          "text": [
            "|    /\n",
            " )   ( '')\n",
            " (  /  )\n",
            "|(__)|)''\n"
          ]
        }
      ]
    },
    {
      "cell_type": "code",
      "source": [
        "print('\\    /\\\\')\n",
        "print(\"\"\" )  ( ')\"\"\")\n",
        "print('(  /  )')\n",
        "print(' \\(__)|')"
      ],
      "metadata": {
        "colab": {
          "base_uri": "https://localhost:8080/"
        },
        "id": "HvkijsF65TnC",
        "outputId": "0910f49f-e580-408c-a7e7-3644162ee1fc"
      },
      "execution_count": null,
      "outputs": [
        {
          "output_type": "stream",
          "name": "stdout",
          "text": [
            "\\    /\\\n",
            " )  ( ')\n",
            "(  /  )\n",
            " \\(__)|\n"
          ]
        }
      ]
    }
  ]
}